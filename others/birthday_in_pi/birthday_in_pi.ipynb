{
 "cells": [
  {
   "cell_type": "markdown",
   "metadata": {},
   "source": [
    "This script finds your birthday in number format among the digits of pi.\n",
    "Actually, the script accepts any numerical string.\n",
    "So you can probably use any numerical sequence with it."
   ]
  },
  {
   "cell_type": "code",
   "execution_count": 38,
   "metadata": {},
   "outputs": [],
   "source": [
    "def getdigits(digits):\n",
    "    file = open('pi-10m.txt', 'r')                                                            # Open the file containing the number pi\n",
    "    pi_digits = file.read()                                                                  # Read the file and store the pi as a string to a variable\n",
    "    birthday = digits # input(\"What sequence of digits would you like to find in pi? \")               # Ask the user for their number sequence\n",
    "    try:\n",
    "        int(birthday)                                                                        # Check if the input is a numerical string\n",
    "    except:\n",
    "        print(\"Please input only a sequence of digits and try again.\\n\")                     # Output an error message if the input is not according to the format because it failed the int() test\n",
    "    pos = pi_digits.find(birthday)                                                           # Find the number sequence in pi using the find() method\n",
    "    pos = pos + 1                                                                            # Account for python numbering and change to the ordinal numbering\n",
    "    if pos > 0:\n",
    "        print(f\"Your sequence was first found at digit {pos} of pi.\\n\")           # If pos is not -1 then print a message of the number sequence's position in pi\n",
    "    else:\n",
    "        print(f\"Your sequence was not found in our digits of pi.\\n\")         # If pos is -1 then print an error message saying it was not found.\n",
    "    file.close()                                                                            # Close the file\n",
    "    "
   ]
  },
  {
   "cell_type": "code",
   "execution_count": 41,
   "metadata": {},
   "outputs": [
    {
     "name": "stdout",
     "output_type": "stream",
     "text": [
      "Your sequence was first found at digit 604423 of pi.\n",
      "\n"
     ]
    }
   ],
   "source": [
    "getdigits(\"052901\")"
   ]
  },
  {
   "cell_type": "code",
   "execution_count": 40,
   "metadata": {},
   "outputs": [
    {
     "name": "stdout",
     "output_type": "stream",
     "text": [
      "Your sequence was first found at digit 6579232 of pi.\n",
      "\n"
     ]
    }
   ],
   "source": [
    "getdigits(\"20010529\")"
   ]
  }
 ],
 "metadata": {
  "kernelspec": {
   "display_name": "Python 3.9.5 64-bit",
   "language": "python",
   "name": "python3"
  },
  "language_info": {
   "codemirror_mode": {
    "name": "ipython",
    "version": 3
   },
   "file_extension": ".py",
   "mimetype": "text/x-python",
   "name": "python",
   "nbconvert_exporter": "python",
   "pygments_lexer": "ipython3",
   "version": "3.9.5"
  },
  "orig_nbformat": 4,
  "vscode": {
   "interpreter": {
    "hash": "4e4e23cfac5e1566143e1918f7b54b05c32ebb9778d49edbc3debe693b4c0b5d"
   }
  }
 },
 "nbformat": 4,
 "nbformat_minor": 2
}
